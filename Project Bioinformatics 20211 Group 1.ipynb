{
 "cells": [
  {
   "cell_type": "markdown",
   "metadata": {},
   "source": [
    "# Group Project Programming of Bioinformatics\n",
    "## Group 1  20211\n",
    "### Authors:\n",
    "TAN WEN YIT (A18CS0259) <br>\n",
    "LIM JIA YEE (A18CS) <br>\n",
    "KAM SHWU CHIN (A18CS) <br>\n",
    "<hr>"
   ]
  },
  {
   "cell_type": "markdown",
   "metadata": {},
   "source": [
    "## Title: Application of Deep Learning in Diagnosis of HCC Through CT Scan Images\n",
    "The application of Deep Learning is essential in solving current problems in the industries such as recommendation algorithm (e.g. YouTube Recommendation Algorithm), speech recognition, object recognition, gestures and etc. In this mini project, we would love to demonstrate the diagnosis of HCC using Convolutional Neural Network (CNN) by using **Keras** (Tensorflow as framework)\n",
    "<hr>\n",
    "<b>Make sure you have TensorFlow/TensorFlow for GPU, Keras, Numpy, Pandas, Skimage installed in your environment through Anaconda</b>"
   ]
  },
  {
   "cell_type": "markdown",
   "metadata": {},
   "source": [
    "### 1. Import essential packages\n",
    "**Keras** has packages to build up a CNN whereas **Numpy** is imported to manage with images.<br>\n",
    "**Pandas** is imported to read dataframe of the list of the images we have prepared as well as their labels.<br>\n",
    "**Skimage** is imported as well to read image in grayscale and normalize the value from 0 - 255 to 0 - 1.<br>"
   ]
  },
  {
   "cell_type": "code",
   "execution_count": 1,
   "metadata": {},
   "outputs": [],
   "source": [
    "import numpy as np\n",
    "import pandas as pd\n",
    "from keras.utils import np_utils\n",
    "from skimage import io\n",
    "from keras.models import Sequential\n",
    "from keras.layers import Dense, Flatten\n",
    "from keras.layers import Convolution2D, MaxPooling2D"
   ]
  },
  {
   "cell_type": "markdown",
   "metadata": {},
   "source": [
    "### 2. Import the images and labels using .csv file as guide\n",
    "The metadata of the images are stored in .csv file.<br>\n",
    "We need to fetch it by using **Pandas** package.<br>\n",
    "Then, we will convert the dataframe into **numpy** array because we will use arrays as a references of the images we need to fetch.<br><br>\n",
    "\n",
    "Images are read as grayscale images and all have equal size (512 x 512).<br>\n",
    "The images are stored in 3D array (1 x 512 x 512), so when we stack up the array we will have (total_num_of_images x 512 x 512).<br>"
   ]
  },
  {
   "cell_type": "code",
   "execution_count": 2,
   "metadata": {},
   "outputs": [
    {
     "name": "stdout",
     "output_type": "stream",
     "text": [
      "Reading images...\n",
      "Images reading completed.\n"
     ]
    }
   ],
   "source": [
    "# read .csv file\n",
    "img_info_df = pd.read_csv('HCC_datasets_w_ohe.csv')\n",
    "img_name_df = pd.DataFrame(img_info_df['Images'], columns=['Images'])\n",
    "labels_df = pd.DataFrame(img_info_df['HCC_Yes'], columns=['HCC_Yes'])\n",
    "\n",
    "# flattening array into 1-D\n",
    "images_name_all = img_name_df.to_numpy().reshape(-1)\n",
    "labels_all = labels_df.to_numpy().reshape(-1)\n",
    "images_all = np.empty([1, 512, 512]) # later we need to remove the first element\n",
    "# print(images_all.shape)\n",
    "\n",
    "print(\"Reading images...\")\n",
    "# read images into ndarray with dimensions (total_images, 512, 512, 1)\n",
    "for image in images_name_all:\n",
    "    tempName = 'HCC_datasets/' + image\n",
    "    img_gs = io.imread(tempName, as_gray=True)\n",
    "    img_gs = img_gs.reshape((1, 512, 512))\n",
    "    images_all = np.vstack((images_all, img_gs))\n",
    "\n",
    "print(\"Images reading completed.\")\n",
    "# print(images_all.shape)\n",
    "images_all = np.delete(images_all, 0, axis=0) # remove the first element which contains empty array\n",
    "images_all = images_all.reshape(images_name_all.shape[0], 512, 512, 1) # reshape the array for CNN odel later"
   ]
  },
  {
   "cell_type": "markdown",
   "metadata": {},
   "source": [
    "### 3. Preprocess the datasets and split into training and testing set (parallel arrays)\n",
    "We need to split the images into **training set** and **tesing set**.<br>\n",
    "We will use normal distribution to randomize a set of random number.<br>\n",
    "Then, we will get the percentile (70%) from the set of numbers obtained.<br>\n",
    "For each number in the set, if the number is less than percentile 70%, then it will become <code>True</code> and vice versa.<br>\n",
    "Eventually, we have a filter mask with random selection of 70% to become training set.<br>\n",
    "Filter mask of 30% testing set will be the complement of the filter mask of training set using loop.<br>\n",
    "Last but not least, we have to categorize the **label**, our label are 0 (HCC absent) and 1 (HCC present).<br>"
   ]
  },
  {
   "cell_type": "code",
   "execution_count": 3,
   "metadata": {},
   "outputs": [],
   "source": [
    "# create filter that splits datasets to 70/30\n",
    "rand_num_list = np.random.normal(size=(images_name_all.shape[0]))\n",
    "boundary = np.percentile(rand_num_list, 70)\n",
    "train_filter, test_filter = [], []\n",
    "true_num, false_num = 0, 0\n",
    "\n",
    "# create filter mask for training set\n",
    "for num in rand_num_list:\n",
    "    if num < boundary:\n",
    "        train_filter.append(True)\n",
    "        true_num += 1\n",
    "    else:\n",
    "        train_filter.append(False)\n",
    "        false_num += 1\n",
    "\n",
    "# create filter mask for testing set based on training filter\n",
    "for boo in train_filter:\n",
    "    if boo:\n",
    "        test_filter.append(False)\n",
    "    else:\n",
    "        test_filter.append(True)\n",
    "\n",
    "# filter the datasets into training and testing set\n",
    "training_img_name = images_name_all[train_filter]\n",
    "training_sets = images_all[train_filter]\n",
    "training_labels = labels_all[train_filter]\n",
    "\n",
    "testing_img_name = images_name_all[test_filter]\n",
    "testing_sets = images_all[test_filter]\n",
    "testing_labels = labels_all[test_filter]\n",
    "\n",
    "# categorize the label into YES(1) and NO(0)\n",
    "c_training_labels = np_utils.to_categorical(training_labels, 2)\n",
    "c_testing_labels = np_utils.to_categorical(testing_labels, 2)"
   ]
  },
  {
   "cell_type": "markdown",
   "metadata": {},
   "source": [
    "### 4. Define hyperparameters\n",
    "**Hyperparameters** are the parameters that can be manually altered (or similar to **constant**). Here, we can set **feature map number**, or other parameters such as **kernel size**, **input_size**, and etc."
   ]
  },
  {
   "cell_type": "code",
   "execution_count": 4,
   "metadata": {},
   "outputs": [],
   "source": [
    "feature_map_num = 64"
   ]
  },
  {
   "cell_type": "markdown",
   "metadata": {},
   "source": [
    "### 5. Build CNN models\n",
    "**Sequential()** is a framework to build up the neural network model.<br>\n",
    "<b>Convolutional2D(), MaxPooling2D, Dense()</b> are the layers in the **Sequential()**.<br>\n"
   ]
  },
  {
   "cell_type": "code",
   "execution_count": 5,
   "metadata": {},
   "outputs": [],
   "source": [
    "convnet = Sequential()\n",
    "convnet.add(Convolution2D(feature_map_num, 4, 4, activation='relu', input_shape=(512, 512, 1)))\n",
    "convnet.add(Convolution2D(feature_map_num, 3, 3, activation='relu'))\n",
    "convnet.add(MaxPooling2D(pool_size=(2, 2), strides=(1, 1)))\n",
    "convnet.add(Convolution2D(feature_map_num, 2, 2, activation='relu'))\n",
    "convnet.add(MaxPooling2D(pool_size=(2, 2), strides=(1, 1)))\n",
    "convnet.add(Convolution2D(feature_map_num, 2, 2, activation='relu'))\n",
    "convnet.add(Flatten())\n",
    "convnet.add(Dense(2, activation='softmax'))"
   ]
  },
  {
   "cell_type": "markdown",
   "metadata": {},
   "source": [
    "### 6. Compile the model\n",
    "The optimizer used is called **Stochastic Gradient Descent** where the weights update are done after a random set from datasets are forward passed and backpropagated."
   ]
  },
  {
   "cell_type": "code",
   "execution_count": 6,
   "metadata": {},
   "outputs": [],
   "source": [
    "convnet.compile(loss='mean_squared_error', optimizer='sgd', metrics=['accuracy'])"
   ]
  },
  {
   "cell_type": "markdown",
   "metadata": {},
   "source": [
    "We can also get the summary of the model built such as output size of each layers and the number of parameters involved in each layer."
   ]
  },
  {
   "cell_type": "code",
   "execution_count": 7,
   "metadata": {},
   "outputs": [
    {
     "name": "stdout",
     "output_type": "stream",
     "text": [
      "Model: \"sequential\"\n",
      "_________________________________________________________________\n",
      "Layer (type)                 Output Shape              Param #   \n",
      "=================================================================\n",
      "conv2d (Conv2D)              (None, 128, 128, 64)      1088      \n",
      "_________________________________________________________________\n",
      "conv2d_1 (Conv2D)            (None, 42, 42, 64)        36928     \n",
      "_________________________________________________________________\n",
      "max_pooling2d (MaxPooling2D) (None, 41, 41, 64)        0         \n",
      "_________________________________________________________________\n",
      "conv2d_2 (Conv2D)            (None, 20, 20, 64)        16448     \n",
      "_________________________________________________________________\n",
      "max_pooling2d_1 (MaxPooling2 (None, 19, 19, 64)        0         \n",
      "_________________________________________________________________\n",
      "conv2d_3 (Conv2D)            (None, 9, 9, 64)          16448     \n",
      "_________________________________________________________________\n",
      "flatten (Flatten)            (None, 5184)              0         \n",
      "_________________________________________________________________\n",
      "dense (Dense)                (None, 2)                 10370     \n",
      "=================================================================\n",
      "Total params: 81,282\n",
      "Trainable params: 81,282\n",
      "Non-trainable params: 0\n",
      "_________________________________________________________________\n",
      "Number of weights after calling the model: 10 \n",
      "\n"
     ]
    }
   ],
   "source": [
    "convnet.summary()\n",
    "print(\"Number of weights after calling the model:\", len(convnet.weights), \"\\n\")"
   ]
  },
  {
   "cell_type": "markdown",
   "metadata": {},
   "source": [
    "### 7. Train the model with training set\n",
    "<code>batch_size</code> is the size of batch to train and update the weight of the model. We use 1 random sample per batch because our samples are fews only (140) and the training takes only a while to be done. If the samples is huge, then we have to specify larger batch size to perform weights update since we are using **Stochastic Gradient Descent**. (e.g. <code>batch_size = 64</code> indicating that the whole training set are just randomly picked 64 samples and being trained, forming an iteration. If we have, says 128 samples, then it takes 2 iterations to complete 1 **epoch**).<br><br>\n",
    "<i>The code below will perform 98 iterations per epoch, achieveing higher accuracy.</i>"
   ]
  },
  {
   "cell_type": "code",
   "execution_count": 8,
   "metadata": {},
   "outputs": [
    {
     "name": "stdout",
     "output_type": "stream",
     "text": [
      "Epoch 1/30\n",
      "136/136 [==============================] - 0s 3ms/step - loss: 0.2443 - accuracy: 0.5588\n",
      "Epoch 2/30\n",
      "136/136 [==============================] - 0s 3ms/step - loss: 0.2427 - accuracy: 0.5809\n",
      "Epoch 3/30\n",
      "136/136 [==============================] - 0s 3ms/step - loss: 0.2361 - accuracy: 0.6176\n",
      "Epoch 4/30\n",
      "136/136 [==============================] - 0s 3ms/step - loss: 0.2362 - accuracy: 0.5956\n",
      "Epoch 5/30\n",
      "136/136 [==============================] - 0s 3ms/step - loss: 0.2217 - accuracy: 0.6618\n",
      "Epoch 6/30\n",
      "136/136 [==============================] - 0s 3ms/step - loss: 0.2213 - accuracy: 0.7279\n",
      "Epoch 7/30\n",
      "136/136 [==============================] - 0s 3ms/step - loss: 0.2029 - accuracy: 0.7206\n",
      "Epoch 8/30\n",
      "136/136 [==============================] - 0s 3ms/step - loss: 0.1751 - accuracy: 0.7721\n",
      "Epoch 9/30\n",
      "136/136 [==============================] - 0s 3ms/step - loss: 0.1443 - accuracy: 0.8235\n",
      "Epoch 10/30\n",
      "136/136 [==============================] - 0s 3ms/step - loss: 0.1094 - accuracy: 0.8824\n",
      "Epoch 11/30\n",
      "136/136 [==============================] - 0s 3ms/step - loss: 0.0842 - accuracy: 0.9191\n",
      "Epoch 12/30\n",
      "136/136 [==============================] - 0s 3ms/step - loss: 0.0640 - accuracy: 0.9485\n",
      "Epoch 13/30\n",
      "136/136 [==============================] - 0s 3ms/step - loss: 0.0485 - accuracy: 0.9559\n",
      "Epoch 14/30\n",
      "136/136 [==============================] - 0s 3ms/step - loss: 0.0383 - accuracy: 0.9632\n",
      "Epoch 15/30\n",
      "136/136 [==============================] - 0s 3ms/step - loss: 0.0150 - accuracy: 0.9926\n",
      "Epoch 16/30\n",
      "136/136 [==============================] - 0s 3ms/step - loss: 0.0229 - accuracy: 0.9779\n",
      "Epoch 17/30\n",
      "136/136 [==============================] - 0s 3ms/step - loss: 0.0085 - accuracy: 1.0000\n",
      "Epoch 18/30\n",
      "136/136 [==============================] - 0s 3ms/step - loss: 0.0134 - accuracy: 0.9853\n",
      "Epoch 19/30\n",
      "136/136 [==============================] - 0s 3ms/step - loss: 0.0087 - accuracy: 1.0000\n",
      "Epoch 20/30\n",
      "136/136 [==============================] - 0s 3ms/step - loss: 0.0041 - accuracy: 1.0000\n",
      "Epoch 21/30\n",
      "136/136 [==============================] - 0s 3ms/step - loss: 0.0026 - accuracy: 1.0000\n",
      "Epoch 22/30\n",
      "136/136 [==============================] - 0s 3ms/step - loss: 0.0019 - accuracy: 1.0000\n",
      "Epoch 23/30\n",
      "136/136 [==============================] - 0s 3ms/step - loss: 0.0013 - accuracy: 1.0000\n",
      "Epoch 24/30\n",
      "136/136 [==============================] - 0s 3ms/step - loss: 9.3025e-04 - accuracy: 1.0000\n",
      "Epoch 25/30\n",
      "136/136 [==============================] - 0s 3ms/step - loss: 8.9053e-04 - accuracy: 1.0000\n",
      "Epoch 26/30\n",
      "136/136 [==============================] - 0s 3ms/step - loss: 6.9334e-04 - accuracy: 1.0000\n",
      "Epoch 27/30\n",
      "136/136 [==============================] - 0s 3ms/step - loss: 6.3921e-04 - accuracy: 1.0000\n",
      "Epoch 28/30\n",
      "136/136 [==============================] - 0s 3ms/step - loss: 5.4757e-04 - accuracy: 1.0000\n",
      "Epoch 29/30\n",
      "136/136 [==============================] - 0s 3ms/step - loss: 4.6528e-04 - accuracy: 1.0000\n",
      "Epoch 30/30\n",
      "136/136 [==============================] - 0s 3ms/step - loss: 4.0322e-04 - accuracy: 1.0000\n",
      "\n"
     ]
    }
   ],
   "source": [
    "model_with_metrics = convnet.fit(training_sets, c_training_labels, batch_size=1, epochs=30, verbose=1)\n",
    "print()"
   ]
  },
  {
   "cell_type": "markdown",
   "metadata": {},
   "source": [
    "### 8. Evaluate the model using testing set\n",
    "We use the testing set to evaluate our model and tell us how accurate the model is."
   ]
  },
  {
   "cell_type": "code",
   "execution_count": 9,
   "metadata": {},
   "outputs": [
    {
     "name": "stdout",
     "output_type": "stream",
     "text": [
      "2/2 [==============================] - 0s 36ms/step - loss: 0.0302 - accuracy: 0.9661\n",
      "\n",
      "accuracy: 96.61%\n",
      "\n"
     ]
    }
   ],
   "source": [
    "metrics = convnet.evaluate(testing_sets, c_testing_labels, verbose=1)\n",
    "print(\"\\n%s: %.2f%%\\n\" % (convnet.metrics_names[1], metrics[1]*100))"
   ]
  },
  {
   "cell_type": "markdown",
   "metadata": {},
   "source": [
    "### 9. Using the model to predict using testing set again"
   ]
  },
  {
   "cell_type": "code",
   "execution_count": 10,
   "metadata": {},
   "outputs": [],
   "source": [
    "predictions = convnet.predict(testing_sets)"
   ]
  },
  {
   "cell_type": "markdown",
   "metadata": {},
   "source": [
    "### 10. Get the overall result of prediction"
   ]
  },
  {
   "cell_type": "code",
   "execution_count": 11,
   "metadata": {},
   "outputs": [
    {
     "name": "stdout",
     "output_type": "stream",
     "text": [
      "bc-a10x-03291993-1-05.jpg:  [0.01366673 0.9863333 ] Result: YES\n",
      "bc-a10z-12201993-01-33.jpg:  [0.0048438 0.9951563] Result: YES\n",
      "bc-a10z-12201993-01-34.jpg:  [0.00497348 0.9950265 ] Result: YES\n",
      "bc-a10z-12201993-01-36.jpg:  [0.00409363 0.99590635] Result: YES\n",
      "bc-a69h-05272003-1-19.jpg:  [0.03504045 0.9649596 ] Result: YES\n",
      "bc-a69h-05272003-1-20.jpg:  [0.05498015 0.9450199 ] Result: YES\n",
      "dd-a113-24161-1-046.jpg:  [0.20167834 0.7983217 ] Result: YES\n",
      "dd-a113-86495-1-029.jpg:  [0.23032016 0.76967984] Result: YES\n",
      "dd-a114-71147-1-40.jpg:  [0.00251763 0.99748236] Result: YES\n",
      "dd-a114-71147-1-42.jpg:  [0.01841494 0.981585  ] Result: YES\n",
      "dd-a118-19398-1-14.jpg:  [9.453357e-04 9.990546e-01] Result: YES\n",
      "dd-a119-76072-1-015.jpg:  [0.09161957 0.90838045] Result: YES\n",
      "dd-a119-76072-1-016.jpg:  [0.07805856 0.92194146] Result: YES\n",
      "dd-a119-76072-1-018.jpg:  [0.01009686 0.9899031 ] Result: YES\n",
      "dd-a11a-55688-1-25.jpg:  [0.01245626 0.9875437 ] Result: YES\n",
      "dd-a11a-55688-1-27.jpg:  [0.00498346 0.9950165 ] Result: YES\n",
      "dd-a11c-43276-1-039.jpg:  [0.04228821 0.95771176] Result: YES\n",
      "dd-a11c-43276-1-040.jpg:  [0.12209128 0.8779087 ] Result: YES\n",
      "dd-a11d-37385-1-029.jpg:  [0.04587625 0.95412374] Result: YES\n",
      "dd-a11d-79698-1-029.jpg:  [0.00355247 0.99644756] Result: YES\n",
      "dd-a11d-88127-1-028.jpg:  [0.01875126 0.98124874] Result: YES\n",
      "dd-a11d-88127-1-035.jpg:  [0.02998413 0.9700159 ] Result: YES\n",
      "dd-a1ee-07101999-1-30.jpg:  [0.03666206 0.96333796] Result: YES\n",
      "dd-a1ee-09031999-1-032.jpg:  [0.0199492  0.98005086] Result: YES\n",
      "dd-a1eg-01061998-1-050.jpg:  [0.02310456 0.97689545] Result: YES\n",
      "dd-a1ei-38159-1-033.jpg:  [0.00810651 0.99189353] Result: YES\n",
      "dd-a1ei-38159-1-035.jpg:  [0.00502101 0.99497896] Result: YES\n",
      "dd-a1el-04627-1-032.jpg:  [0.00626446 0.9937356 ] Result: YES\n",
      "dd-a1el-28501-1-20.jpg:  [1.4457492e-04 9.9985540e-01] Result: YES\n",
      "dd-a1el-28501-1-21.jpg:  [7.2000126e-05 9.9992800e-01] Result: YES\n",
      "dd-a1el-34835-1-049.jpg:  [1.6428583e-04 9.9983573e-01] Result: YES\n",
      "dd-a4ne-96874-1-58.jpg:  [0.01107892 0.98892105] Result: YES\n",
      "dd-a4nf-36199-1-011.jpg:  [0.07372858 0.92627144] Result: YES\n",
      "dd-a4nf-36199-1-013.jpg:  [0.05811693 0.941883  ] Result: YES\n",
      "dd-a4nq-15575-1-041.jpg:  [0.03613219 0.9638678 ] Result: YES\n",
      "K4-1-16.jpg:  [0.9909128  0.00908724] Result: NO\n",
      "B10-1-045.jpg:  [0.98260766 0.0173924 ] Result: NO\n",
      "B13-1-027.jpg:  [0.99668103 0.00331899] Result: NO\n",
      "B14-1-008.jpg:  [0.28065217 0.71934783] Result: YES\n",
      "B16-1-005.jpg:  [0.4417511 0.5582489] Result: YES\n",
      "B17-1-13.jpg:  [0.99573517 0.00426485] Result: NO\n",
      "B6-1-15.jpg:  [0.9563835  0.04361649] Result: NO\n",
      "B9-1-007.jpg:  [0.9883581  0.01164196] Result: NO\n",
      "L1-028.jpg:  [0.99579763 0.00420241] Result: NO\n",
      "L11-230.jpg:  [0.57157916 0.42842078] Result: NO\n",
      "L12-269.jpg:  [0.9597595  0.04024052] Result: NO\n",
      "L12-290.jpg:  [0.5267391  0.47326085] Result: NO\n",
      "L15-101.jpg:  [9.9939752e-01 6.0246256e-04] Result: NO\n",
      "L18-113.jpg:  [9.9998844e-01 1.1575926e-05] Result: NO\n",
      "L21-004.jpg:  [9.996816e-01 3.184428e-04] Result: NO\n",
      "L8-219.jpg:  [0.5004299  0.49957004] Result: NO\n",
      "A10-1-31.jpg:  [9.996978e-01 3.022778e-04] Result: NO\n",
      "A11-1-027.jpg:  [0.9988417  0.00115834] Result: NO\n",
      "A16-1-31.jpg:  [0.9593757  0.04062436] Result: NO\n",
      "A19-1-26.jpg:  [0.84920883 0.1507912 ] Result: NO\n",
      "A5-1-033.jpg:  [9.999200e-01 7.997345e-05] Result: NO\n",
      "A6-1-030.jpg:  [9.9983549e-01 1.6445636e-04] Result: NO\n",
      "P3-1-020.jpg:  [0.65130985 0.34869018] Result: NO\n",
      "P9-1-033.jpg:  [9.9999738e-01 2.6654766e-06] Result: NO\n"
     ]
    },
    {
     "ename": "IndexError",
     "evalue": "index 59 is out of bounds for axis 0 with size 59",
     "output_type": "error",
     "traceback": [
      "\u001b[1;31m---------------------------------------------------------------------------\u001b[0m",
      "\u001b[1;31mIndexError\u001b[0m                                Traceback (most recent call last)",
      "\u001b[1;32m<ipython-input-11-555e2403dd88>\u001b[0m in \u001b[0;36m<module>\u001b[1;34m\u001b[0m\n\u001b[0;32m      1\u001b[0m \u001b[0mi\u001b[0m \u001b[1;33m=\u001b[0m \u001b[1;36m0\u001b[0m\u001b[1;33m\u001b[0m\u001b[1;33m\u001b[0m\u001b[0m\n\u001b[0;32m      2\u001b[0m \u001b[1;32mwhile\u001b[0m \u001b[0mi\u001b[0m \u001b[1;33m<\u001b[0m \u001b[0mlen\u001b[0m\u001b[1;33m(\u001b[0m\u001b[0mtest_filter\u001b[0m\u001b[1;33m)\u001b[0m\u001b[1;33m:\u001b[0m\u001b[1;33m\u001b[0m\u001b[1;33m\u001b[0m\u001b[0m\n\u001b[1;32m----> 3\u001b[1;33m     \u001b[1;32mif\u001b[0m \u001b[0mpredictions\u001b[0m\u001b[1;33m[\u001b[0m\u001b[0mi\u001b[0m\u001b[1;33m]\u001b[0m\u001b[1;33m[\u001b[0m\u001b[1;36m0\u001b[0m\u001b[1;33m]\u001b[0m \u001b[1;33m>\u001b[0m \u001b[0mpredictions\u001b[0m\u001b[1;33m[\u001b[0m\u001b[0mi\u001b[0m\u001b[1;33m]\u001b[0m\u001b[1;33m[\u001b[0m\u001b[1;36m1\u001b[0m\u001b[1;33m]\u001b[0m\u001b[1;33m:\u001b[0m\u001b[1;33m\u001b[0m\u001b[1;33m\u001b[0m\u001b[0m\n\u001b[0m\u001b[0;32m      4\u001b[0m         \u001b[0mprint\u001b[0m\u001b[1;33m(\u001b[0m\u001b[0mtesting_img_name\u001b[0m\u001b[1;33m[\u001b[0m\u001b[0mi\u001b[0m\u001b[1;33m]\u001b[0m \u001b[1;33m+\u001b[0m \u001b[1;34m\": \"\u001b[0m\u001b[1;33m,\u001b[0m \u001b[0mpredictions\u001b[0m\u001b[1;33m[\u001b[0m\u001b[0mi\u001b[0m\u001b[1;33m]\u001b[0m\u001b[1;33m,\u001b[0m \u001b[1;34m\"Result: NO\"\u001b[0m\u001b[1;33m)\u001b[0m\u001b[1;33m\u001b[0m\u001b[1;33m\u001b[0m\u001b[0m\n\u001b[0;32m      5\u001b[0m     \u001b[1;32melse\u001b[0m\u001b[1;33m:\u001b[0m\u001b[1;33m\u001b[0m\u001b[1;33m\u001b[0m\u001b[0m\n",
      "\u001b[1;31mIndexError\u001b[0m: index 59 is out of bounds for axis 0 with size 59"
     ]
    }
   ],
   "source": [
    "i = 0\n",
    "while i < len(test_filter):\n",
    "    if predictions[i][0] > predictions[i][1]:\n",
    "        print(testing_img_name[i] + \": \", predictions[i], \"Result: NO\")\n",
    "    else:\n",
    "        print(testing_img_name[i] + \": \", predictions[i], \"Result: YES\")\n",
    "    i += 1\n"
   ]
  },
  {
   "cell_type": "markdown",
   "metadata": {},
   "source": [
    "<hr>\n",
    "\n",
    "## Analysis"
   ]
  },
  {
   "cell_type": "markdown",
   "metadata": {},
   "source": [
    "Here will analyze how the model learns by adjusting weights and the loss of the training process as well as the accuracy for each epoch.<br>\n",
    "We will use the metrics['loss', 'accuracy'] to visualize the training process.<br><br>\n",
    "Read and store each metric into a variable"
   ]
  },
  {
   "cell_type": "code",
   "execution_count": 20,
   "metadata": {},
   "outputs": [],
   "source": [
    "import matplotlib.pyplot as plt\n",
    "epoch = [x for x in range(1, len(model_with_metrics.history['loss']) + 1)]\n",
    "loss = model_with_metrics.history['loss']\n",
    "accuracy = model_with_metrics.history['accuracy']\n"
   ]
  },
  {
   "cell_type": "markdown",
   "metadata": {},
   "source": [
    "Plot graph for loss"
   ]
  },
  {
   "cell_type": "code",
   "execution_count": 22,
   "metadata": {},
   "outputs": [
    {
     "data": {
      "image/png": "[encoded data removed]",
      "text/plain": [
       "<Figure size 432x288 with 1 Axes>"
      ]
     },
     "metadata": {
      "needs_background": "light"
     },
     "output_type": "display_data"
    }
   ],
   "source": [
    "plt.plot(epoch, loss)\n",
    "plt.title('Graph of epoch against loss')\n",
    "plt.xlabel('Epoch')\n",
    "plt.ylabel('Loss')\n",
    "plt.show()"
   ]
  },
  {
   "cell_type": "markdown",
   "metadata": {},
   "source": [
    "Plot graph for accuracy"
   ]
  },
  {
   "cell_type": "code",
   "execution_count": 23,
   "metadata": {},
   "outputs": [
    {
     "data": {
      "image/png": "[encoded data removed]",
      "text/plain": [
       "<Figure size 432x288 with 1 Axes>"
      ]
     },
     "metadata": {
      "needs_background": "light"
     },
     "output_type": "display_data"
    }
   ],
   "source": [
    "plt.plot(epoch, accuracy)\n",
    "plt.title('Graph of epoch against accuracy')\n",
    "plt.xlabel('Epoch')\n",
    "plt.ylabel('Accuracy')\n",
    "plt.show()"
   ]
  }
 ],
 "metadata": {
  "kernelspec": {
   "display_name": "Python 3",
   "language": "python",
   "name": "python3"
  },
  "language_info": {
   "codemirror_mode": {
    "name": "ipython",
    "version": 3
   },
   "file_extension": ".py",
   "mimetype": "text/x-python",
   "name": "python",
   "nbconvert_exporter": "python",
   "pygments_lexer": "ipython3",
   "version": "3.8.5"
  }
 },
 "nbformat": 4,
 "nbformat_minor": 4
}
