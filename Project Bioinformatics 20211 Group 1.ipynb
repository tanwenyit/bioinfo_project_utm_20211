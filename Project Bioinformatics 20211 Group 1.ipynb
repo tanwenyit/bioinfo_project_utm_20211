{
 "cells": [
  {
   "cell_type": "markdown",
   "metadata": {},
   "source": [
    "# Group Project Programming of Bioinformatics\n",
    "## Group 1  20211\n",
    "### Authors:\n",
    "TAN WEN YIT (A18CS0259) <br>\n",
    "LIM JIA YEE (A18CS) <br>\n",
    "KAM SHWU CHIN (A18CS) <br>\n",
    "<hr>"
   ]
  },
  {
   "cell_type": "markdown",
   "metadata": {},
   "source": [
    "## Title: Application of Deep Learning in Diagnosis of HCC Through CT Scan Images\n",
    "The application of Deep Learning is essential in solving current problems in the industries such as recommendation algorithm (e.g. YouTube Recommendation Algorithm), speech recognition, object recognition, gestures and etc. In this mini project, we would love to demonstrate the diagnosis of HCC using Convolutional Neural Network (CNN) by using **Keras** (Tensorflow as framework)\n",
    "<hr>\n",
    "<b>Make sure you have TensorFlow/TensorFlow for GPU, Keras, Numpy, Pandas, Skimage installed in your environment through Anaconda</b>"
   ]
  },
  {
   "cell_type": "markdown",
   "metadata": {},
   "source": [
    "### 1. Import essential packages\n",
    "**Keras** has packages to build up a CNN whereas **Numpy** is imported to manage with images.<br>\n",
    "**Pandas** is imported to read dataframe of the list of the images we have prepared as well as their labels.<br>\n",
    "**Skimage** is imported as well to read image in grayscale and normalize the value from 0 - 255 to 0 - 1.<br>"
   ]
  },
  {
   "cell_type": "code",
   "execution_count": 1,
   "metadata": {},
   "outputs": [],
   "source": [
    "import numpy as np\n",
    "import pandas as pd\n",
    "from keras.utils import np_utils\n",
    "from skimage import io\n",
    "from keras.models import Sequential\n",
    "from keras.layers import Dense, Flatten\n",
    "from keras.layers import Convolution2D, MaxPooling2D"
   ]
  },
  {
   "cell_type": "markdown",
   "metadata": {},
   "source": [
    "### 2. Import the images and labels using .csv file as guide\n",
    "The metadata of the images are stored in .csv file.<br>\n",
    "We need to fetch it by using **Pandas** package.<br>\n",
    "Then, we will convert the dataframe into **numpy** array because we will use arrays as a references of the images we need to fetch.<br><br>\n",
    "\n",
    "Images are read as grayscale images and all have equal size (512 x 512).<br>\n",
    "The images are stored in 3D array (1 x 512 x 512), so when we stack up the array we will have (total_num_of_images x 512 x 512).<br>"
   ]
  },
  {
   "cell_type": "code",
   "execution_count": 2,
   "metadata": {},
   "outputs": [
    {
     "name": "stdout",
     "output_type": "stream",
     "text": [
      "Reading images...\n",
      "Images reading completed.\n"
     ]
    }
   ],
   "source": [
    "# read .csv file\n",
    "img_info_df = pd.read_csv('HCC_datasets_w_ohe.csv')\n",
    "img_name_df = pd.DataFrame(img_info_df['Images'], columns=['Images'])\n",
    "labels_df = pd.DataFrame(img_info_df['HCC_Yes'], columns=['HCC_Yes'])\n",
    "\n",
    "# flattening array into 1-D\n",
    "images_name_all = img_name_df.to_numpy().reshape(-1)\n",
    "labels_all = labels_df.to_numpy().reshape(-1)\n",
    "images_all = np.empty([1, 512, 512]) # later we need to remove the first element\n",
    "# print(images_all.shape)\n",
    "\n",
    "print(\"Reading images...\")\n",
    "# read images into ndarray with dimensions (total_images, 512, 512, 1)\n",
    "for image in images_name_all:\n",
    "    tempName = 'HCC_datasets/' + image\n",
    "    img_gs = io.imread(tempName, as_gray=True)\n",
    "    img_gs = img_gs.reshape((1, 512, 512))\n",
    "    images_all = np.vstack((images_all, img_gs))\n",
    "\n",
    "print(\"Images reading completed.\")\n",
    "# print(images_all.shape)\n",
    "images_all = np.delete(images_all, 0, axis=0) # remove the first element which contains empty array\n",
    "images_all = images_all.reshape(images_name_all.shape[0], 512, 512, 1) # reshape the array for CNN odel later"
   ]
  },
  {
   "cell_type": "markdown",
   "metadata": {},
   "source": [
    "### 3. Preprocess the datasets and split into training and testing set (parallel arrays)\n",
    "We need to split the images into **training set** and **tesing set**.<br>\n",
    "We will use normal distribution to randomize a set of random number.<br>\n",
    "Then, we will get the percentile (70%) from the set of numbers obtained.<br>\n",
    "For each number in the set, if the number is less than percentile 70%, then it will become <code>True</code> and vice versa.<br>\n",
    "Eventually, we have a filter mask with random selection of 70% to become training set.<br>\n",
    "Filter mask of 30% testing set will be the complement of the filter mask of training set using loop.<br>\n",
    "Last but not least, we have to categorize the **label**, our label are 0 (HCC absent) and 1 (HCC present).<br>"
   ]
  },
  {
   "cell_type": "code",
   "execution_count": 3,
   "metadata": {},
   "outputs": [],
   "source": [
    "# create filter that splits datasets to 70/30\n",
    "rand_num_list = np.random.normal(size=(images_name_all.shape[0]))\n",
    "boundary = np.percentile(rand_num_list, 70)\n",
    "train_filter, test_filter = [], []\n",
    "true_num, false_num = 0, 0\n",
    "\n",
    "# create filter mask for training set\n",
    "for num in rand_num_list:\n",
    "    if num < boundary:\n",
    "        train_filter.append(True)\n",
    "        true_num += 1\n",
    "    else:\n",
    "        train_filter.append(False)\n",
    "        false_num += 1\n",
    "\n",
    "# create filter mask for testing set based on training filter\n",
    "for boo in train_filter:\n",
    "    if boo:\n",
    "        test_filter.append(False)\n",
    "    else:\n",
    "        test_filter.append(True)\n",
    "\n",
    "# filter the datasets into training and testing set\n",
    "training_img_name = images_name_all[train_filter]\n",
    "training_sets = images_all[train_filter]\n",
    "training_labels = labels_all[train_filter]\n",
    "\n",
    "testing_img_name = images_name_all[test_filter]\n",
    "testing_sets = images_all[test_filter]\n",
    "testing_labels = labels_all[test_filter]\n",
    "\n",
    "# categorize the label into YES(1) and NO(0)\n",
    "c_training_labels = np_utils.to_categorical(training_labels, 2)\n",
    "c_testing_labels = np_utils.to_categorical(testing_labels, 2)"
   ]
  },
  {
   "cell_type": "markdown",
   "metadata": {},
   "source": [
    "### 3.1 Image Quality\n",
    "All the images are having 512 x 512 in size.<br>\n",
    "Let us check the background colour of all the images because we practically need exact black background for every CT scan images. In fact, the images we have found are from different time frame, ranging from 1996 to 2009. In image, black colour is being represented by value 0 and 256 for white colour (1 if normalized). "
   ]
  },
  {
   "cell_type": "code",
   "execution_count": 4,
   "metadata": {},
   "outputs": [
    {
     "name": "stdout",
     "output_type": "stream",
     "text": [
      "[0.0, 0.2117647058823529, 0.23137254901960785, 0.2196078431372549]\n",
      "[188, 5, 1, 1]\n"
     ]
    }
   ],
   "source": [
    "image_gs_unique = []\n",
    "image_gs_unique_count = []\n",
    "\n",
    "for i in range(images_all.shape[0]):\n",
    "    exist = False\n",
    "    for unique_gs_index in range(len(image_gs_unique)):\n",
    "        if images_all[i,0,0,0] == image_gs_unique[unique_gs_index]:\n",
    "            image_gs_unique_count[unique_gs_index] += 1\n",
    "            exist = True\n",
    "\n",
    "    if not exist:\n",
    "        image_gs_unique.append(images_all[i,0,0,0])\n",
    "        image_gs_unique_count.append(1)\n",
    "\n",
    "print(image_gs_unique)\n",
    "print(image_gs_unique_count)"
   ]
  },
  {
   "cell_type": "markdown",
   "metadata": {},
   "source": [
    "We can observe that most of the images are having exact black colour whereas only 7 images with different values for background colour. Overall, the images quality is considered optimal and will not distort the training model."
   ]
  },
  {
   "cell_type": "markdown",
   "metadata": {},
   "source": [
    "### 4. Define hyperparameters\n",
    "**Hyperparameters** are the parameters that can be manually altered (or similar to **constant**). Here, we can set **feature map number**, or other parameters such as **kernel size**, **input_size**, and etc."
   ]
  },
  {
   "cell_type": "code",
   "execution_count": 5,
   "metadata": {},
   "outputs": [],
   "source": [
    "feature_map_num = 64"
   ]
  },
  {
   "cell_type": "markdown",
   "metadata": {},
   "source": [
    "### 5. Build CNN models\n",
    "**Sequential()** is a framework to build up the neural network model.<br>\n",
    "<b>Convolutional2D(), MaxPooling2D, Dense()</b> are the layers in the **Sequential()**.<br>\n"
   ]
  },
  {
   "cell_type": "code",
   "execution_count": 6,
   "metadata": {},
   "outputs": [],
   "source": [
    "convnet = Sequential()\n",
    "convnet.add(Convolution2D(feature_map_num, 4, 4, activation='relu', input_shape=(512, 512, 1)))\n",
    "convnet.add(Convolution2D(feature_map_num, 3, 3, activation='relu'))\n",
    "convnet.add(MaxPooling2D(pool_size=(2, 2), strides=(1, 1)))\n",
    "convnet.add(Convolution2D(feature_map_num, 2, 2, activation='relu'))\n",
    "convnet.add(MaxPooling2D(pool_size=(2, 2), strides=(1, 1)))\n",
    "convnet.add(Convolution2D(feature_map_num, 2, 2, activation='relu'))\n",
    "convnet.add(Flatten())\n",
    "convnet.add(Dense(2, activation='softmax'))"
   ]
  },
  {
   "cell_type": "markdown",
   "metadata": {},
   "source": [
    "### 6. Compile the model\n",
    "The optimizer used is called **Stochastic Gradient Descent** where the weights update are done after a random set from datasets are forward passed and backpropagated."
   ]
  },
  {
   "cell_type": "code",
   "execution_count": 7,
   "metadata": {},
   "outputs": [],
   "source": [
    "convnet.compile(loss='mean_squared_error', optimizer='sgd', metrics=['accuracy'])"
   ]
  },
  {
   "cell_type": "markdown",
   "metadata": {},
   "source": [
    "We can also get the summary of the model built such as output size of each layers and the number of parameters involved in each layer."
   ]
  },
  {
   "cell_type": "code",
   "execution_count": 8,
   "metadata": {},
   "outputs": [
    {
     "name": "stdout",
     "output_type": "stream",
     "text": [
      "Model: \"sequential\"\n",
      "_________________________________________________________________\n",
      "Layer (type)                 Output Shape              Param #   \n",
      "=================================================================\n",
      "conv2d (Conv2D)              (None, 128, 128, 64)      1088      \n",
      "_________________________________________________________________\n",
      "conv2d_1 (Conv2D)            (None, 42, 42, 64)        36928     \n",
      "_________________________________________________________________\n",
      "max_pooling2d (MaxPooling2D) (None, 41, 41, 64)        0         \n",
      "_________________________________________________________________\n",
      "conv2d_2 (Conv2D)            (None, 20, 20, 64)        16448     \n",
      "_________________________________________________________________\n",
      "max_pooling2d_1 (MaxPooling2 (None, 19, 19, 64)        0         \n",
      "_________________________________________________________________\n",
      "conv2d_3 (Conv2D)            (None, 9, 9, 64)          16448     \n",
      "_________________________________________________________________\n",
      "flatten (Flatten)            (None, 5184)              0         \n",
      "_________________________________________________________________\n",
      "dense (Dense)                (None, 2)                 10370     \n",
      "=================================================================\n",
      "Total params: 81,282\n",
      "Trainable params: 81,282\n",
      "Non-trainable params: 0\n",
      "_________________________________________________________________\n",
      "Number of weights after calling the model: 10 \n",
      "\n"
     ]
    }
   ],
   "source": [
    "convnet.summary()\n",
    "print(\"Number of weights after calling the model:\", len(convnet.weights), \"\\n\")"
   ]
  },
  {
   "cell_type": "markdown",
   "metadata": {},
   "source": [
    "### 7. Train the model with training set\n",
    "<code>batch_size</code> is the size of batch to train and update the weight of the model. We use 1 random sample per batch because our samples are fews only (140) and the training takes only a while to be done. If the samples is huge, then we have to specify larger batch size to perform weights update since we are using **Stochastic Gradient Descent**. (e.g. <code>batch_size = 64</code> indicating that the whole training set are just randomly picked 64 samples and being trained, forming an iteration. If we have, says 128 samples, then it takes 2 iterations to complete 1 **epoch**).<br><br>\n",
    "<i>The code below will perform 98 iterations per epoch, achieveing higher accuracy.</i>"
   ]
  },
  {
   "cell_type": "code",
   "execution_count": 9,
   "metadata": {},
   "outputs": [
    {
     "name": "stdout",
     "output_type": "stream",
     "text": [
      "Epoch 1/30\n",
      "136/136 [==============================] - 0s 3ms/step - loss: 0.2478 - accuracy: 0.5441\n",
      "Epoch 2/30\n",
      "136/136 [==============================] - 0s 3ms/step - loss: 0.2432 - accuracy: 0.5956\n",
      "Epoch 3/30\n",
      "136/136 [==============================] - 0s 3ms/step - loss: 0.2334 - accuracy: 0.6397\n",
      "Epoch 4/30\n",
      "136/136 [==============================] - 0s 3ms/step - loss: 0.2331 - accuracy: 0.6691\n",
      "Epoch 5/30\n",
      "136/136 [==============================] - 0s 3ms/step - loss: 0.2261 - accuracy: 0.7059\n",
      "Epoch 6/30\n",
      "136/136 [==============================] - 0s 3ms/step - loss: 0.2096 - accuracy: 0.7279\n",
      "Epoch 7/30\n",
      "136/136 [==============================] - 0s 3ms/step - loss: 0.1846 - accuracy: 0.7574\n",
      "Epoch 8/30\n",
      "136/136 [==============================] - 0s 3ms/step - loss: 0.1643 - accuracy: 0.7868\n",
      "Epoch 9/30\n",
      "136/136 [==============================] - 0s 3ms/step - loss: 0.1391 - accuracy: 0.8015\n",
      "Epoch 10/30\n",
      "136/136 [==============================] - 0s 3ms/step - loss: 0.1108 - accuracy: 0.8676\n",
      "Epoch 11/30\n",
      "136/136 [==============================] - 0s 3ms/step - loss: 0.0756 - accuracy: 0.9118\n",
      "Epoch 12/30\n",
      "136/136 [==============================] - 0s 3ms/step - loss: 0.0517 - accuracy: 0.9559\n",
      "Epoch 13/30\n",
      "136/136 [==============================] - 0s 3ms/step - loss: 0.0383 - accuracy: 0.9559\n",
      "Epoch 14/30\n",
      "136/136 [==============================] - 0s 3ms/step - loss: 0.0273 - accuracy: 0.9779\n",
      "Epoch 15/30\n",
      "136/136 [==============================] - 0s 3ms/step - loss: 0.0267 - accuracy: 0.9779\n",
      "Epoch 16/30\n",
      "136/136 [==============================] - 0s 3ms/step - loss: 0.0143 - accuracy: 0.9926\n",
      "Epoch 17/30\n",
      "136/136 [==============================] - 0s 3ms/step - loss: 0.0125 - accuracy: 0.9853\n",
      "Epoch 18/30\n",
      "136/136 [==============================] - 0s 3ms/step - loss: 0.0066 - accuracy: 1.0000\n",
      "Epoch 19/30\n",
      "136/136 [==============================] - 0s 3ms/step - loss: 0.0043 - accuracy: 1.0000\n",
      "Epoch 20/30\n",
      "136/136 [==============================] - 0s 3ms/step - loss: 0.0024 - accuracy: 1.0000\n",
      "Epoch 21/30\n",
      "136/136 [==============================] - 0s 3ms/step - loss: 0.0016 - accuracy: 1.0000\n",
      "Epoch 22/30\n",
      "136/136 [==============================] - 0s 3ms/step - loss: 9.8468e-04 - accuracy: 1.0000\n",
      "Epoch 23/30\n",
      "136/136 [==============================] - 0s 3ms/step - loss: 0.0010 - accuracy: 1.0000\n",
      "Epoch 24/30\n",
      "136/136 [==============================] - 0s 3ms/step - loss: 7.3498e-04 - accuracy: 1.0000\n",
      "Epoch 25/30\n",
      "136/136 [==============================] - 0s 3ms/step - loss: 6.7718e-04 - accuracy: 1.0000\n",
      "Epoch 26/30\n",
      "136/136 [==============================] - 0s 3ms/step - loss: 5.4026e-04 - accuracy: 1.0000\n",
      "Epoch 27/30\n",
      "136/136 [==============================] - 0s 3ms/step - loss: 4.9891e-04 - accuracy: 1.0000\n",
      "Epoch 28/30\n",
      "136/136 [==============================] - 0s 3ms/step - loss: 4.3029e-04 - accuracy: 1.0000\n",
      "Epoch 29/30\n",
      "136/136 [==============================] - 0s 3ms/step - loss: 3.8409e-04 - accuracy: 1.0000\n",
      "Epoch 30/30\n",
      "136/136 [==============================] - 0s 3ms/step - loss: 3.5948e-04 - accuracy: 1.0000\n",
      "\n"
     ]
    }
   ],
   "source": [
    "model_with_metrics = convnet.fit(training_sets, c_training_labels, batch_size=1, epochs=30, verbose=1)\n",
    "print()"
   ]
  },
  {
   "cell_type": "markdown",
   "metadata": {},
   "source": [
    "### 8. Evaluate the model using testing set\n",
    "We use the testing set to evaluate our model and tell us how accurate the model is."
   ]
  },
  {
   "cell_type": "code",
   "execution_count": 10,
   "metadata": {},
   "outputs": [
    {
     "name": "stdout",
     "output_type": "stream",
     "text": [
      "2/2 [==============================] - 0s 37ms/step - loss: 0.0537 - accuracy: 0.9322\n",
      "\n",
      "accuracy: 93.22%\n",
      "\n"
     ]
    }
   ],
   "source": [
    "metrics = convnet.evaluate(testing_sets, c_testing_labels, verbose=1)\n",
    "print(\"\\n%s: %.2f%%\\n\" % (convnet.metrics_names[1], metrics[1]*100))"
   ]
  },
  {
   "cell_type": "markdown",
   "metadata": {},
   "source": [
    "### 9. Using the model to predict using testing set again"
   ]
  },
  {
   "cell_type": "code",
   "execution_count": 11,
   "metadata": {},
   "outputs": [],
   "source": [
    "predictions = convnet.predict(testing_sets)"
   ]
  },
  {
   "cell_type": "markdown",
   "metadata": {},
   "source": [
    "### 10. Get the overall result of prediction"
   ]
  },
  {
   "cell_type": "code",
   "execution_count": 12,
   "metadata": {},
   "outputs": [
    {
     "name": "stdout",
     "output_type": "stream",
     "text": [
      "bc-a10x-03291993-1-14.jpg:  [0.00118283 0.9988172 ] Result: YES\n",
      "dd-a113-24161-1-044.jpg:  [0.0171512 0.9828488] Result: YES\n",
      "dd-a113-30984-2-010.jpg:  [0.30733287 0.6926672 ] Result: YES\n",
      "dd-a113-30984-2-015.jpg:  [0.21720394 0.7827961 ] Result: YES\n",
      "dd-a11a-55688-1-25.jpg:  [0.00269537 0.99730456] Result: YES\n",
      "dd-a11a-55688-1-26.jpg:  [0.00495771 0.9950423 ] Result: YES\n",
      "dd-a11a-55688-1-27.jpg:  [0.00307586 0.9969241 ] Result: YES\n",
      "dd-a11a-55688-1-28.jpg:  [0.00337484 0.9966252 ] Result: YES\n",
      "dd-a11c-43276-1-040.jpg:  [0.03210275 0.9678973 ] Result: YES\n",
      "dd-a11c-87471-1-036.jpg:  [0.06268208 0.9373179 ] Result: YES\n",
      "dd-a11c-87471-1-037.jpg:  [0.11981391 0.8801861 ] Result: YES\n",
      "dd-a11d-79698-1-029.jpg:  [0.00105319 0.99894685] Result: YES\n",
      "dd-a11d-88127-1-031.jpg:  [0.02208668 0.9779133 ] Result: YES\n",
      "dd-a11d-88127-1-035.jpg:  [0.20600985 0.7939902 ] Result: YES\n",
      "dd-a1ee-09031999-1-032.jpg:  [0.01091827 0.98908174] Result: YES\n",
      "dd-a1eg-01061998-1-049.jpg:  [0.30424404 0.69575596] Result: YES\n",
      "dd-a1eh-24559-1-028.jpg:  [0.05648652 0.9435134 ] Result: YES\n",
      "dd-a1eh-24559-1-029.jpg:  [0.02751927 0.9724807 ] Result: YES\n",
      "dd-a1ei-38159-1-034.jpg:  [0.01861679 0.98138326] Result: YES\n",
      "dd-a1ei-38159-1-036.jpg:  [0.01625378 0.9837463 ] Result: YES\n",
      "dd-a1ei-38159-1-038.jpg:  [0.00437959 0.9956204 ] Result: YES\n",
      "dd-a1ej-86894-1-16.jpg:  [0.03163895 0.9683611 ] Result: YES\n",
      "dd-a1el-04627-1-031.jpg:  [0.28245273 0.71754724] Result: YES\n",
      "dd-a1el-04627-1-032.jpg:  [0.2486815 0.7513185] Result: YES\n",
      "dd-a1el-04627-1-033.jpg:  [0.27772203 0.72227794] Result: YES\n",
      "dd-a1el-28501-1-20.jpg:  [7.7788217e-04 9.9922216e-01] Result: YES\n",
      "dd-a1el-28501-1-24.jpg:  [1.9649752e-04 9.9980348e-01] Result: YES\n",
      "dd-a4ne-96874-1-56.jpg:  [0.00556947 0.9944305 ] Result: YES\n",
      "dd-a4ne-96874-1-58.jpg:  [0.01109764 0.9889024 ] Result: YES\n",
      "dd-a4nf-36199-1-011.jpg:  [0.21810593 0.781894  ] Result: YES\n",
      "dd-a4nf-36199-1-012.jpg:  [0.08663237 0.9133677 ] Result: YES\n",
      "dd-a4ng-64392-1-26.jpg:  [0.04793304 0.952067  ] Result: YES\n",
      "dd-a4ng-64392-1-27.jpg:  [0.17143415 0.8285659 ] Result: YES\n",
      "dd-a4nq-15575-1-040.jpg:  [0.0098326 0.9901674] Result: YES\n",
      "dd-a4nq-15575-1-044.jpg:  [0.03000515 0.9699949 ] Result: YES\n",
      "K1-1-07.jpg:  [0.93531656 0.06468347] Result: NO\n",
      "K3-1-14.jpg:  [0.9825106  0.01748936] Result: NO\n",
      "B11-1-15.jpg:  [0.9524646  0.04753538] Result: NO\n",
      "B12-1-015.jpg:  [0.97576106 0.0242389 ] Result: NO\n",
      "B13-1-027.jpg:  [0.99554056 0.00445942] Result: NO\n",
      "B16-1-005.jpg:  [0.46532026 0.5346798 ] Result: YES\n",
      "B19-1-15.jpg:  [0.02479353 0.97520643] Result: YES\n",
      "B6-1-15.jpg:  [0.9696842  0.03031578] Result: NO\n",
      "L10-229.jpg:  [0.75981355 0.24018648] Result: NO\n",
      "L11-230.jpg:  [0.8910405  0.10895956] Result: NO\n",
      "L12-290.jpg:  [0.64946496 0.35053504] Result: NO\n",
      "L13-095.jpg:  [0.99568594 0.00431404] Result: NO\n",
      "L2-058.jpg:  [0.98747116 0.01252883] Result: NO\n",
      "L3-73.jpg:  [0.99729544 0.00270453] Result: NO\n",
      "L6-121.jpg:  [9.9965072e-01 3.4923508e-04] Result: NO\n",
      "L8-219.jpg:  [0.1055185  0.89448154] Result: YES\n",
      "A11-1-027.jpg:  [0.9943078  0.00569224] Result: NO\n",
      "A18-1-32.jpg:  [0.4351698 0.5648302] Result: YES\n",
      "A20-1-035.jpg:  [0.9973031  0.00269687] Result: NO\n",
      "A6-1-030.jpg:  [0.9984518  0.00154813] Result: NO\n",
      "P12-1-046.jpg:  [0.9931906  0.00680942] Result: NO\n",
      "P5-1-024.jpg:  [0.9954852  0.00451484] Result: NO\n",
      "P8-1-032.jpg:  [9.9999321e-01 6.8050513e-06] Result: NO\n",
      "P9-1-033.jpg:  [9.9999547e-01 4.4877070e-06] Result: NO\n"
     ]
    }
   ],
   "source": [
    "for i in range(len(testing_sets)):\n",
    "    if predictions[i][0] > predictions[i][1]:\n",
    "        print(testing_img_name[i] + \": \", predictions[i], \"Result: NO\")\n",
    "    else:\n",
    "        print(testing_img_name[i] + \": \", predictions[i], \"Result: YES\")"
   ]
  },
  {
   "cell_type": "markdown",
   "metadata": {},
   "source": [
    "<hr>\n",
    "\n",
    "## Analysis"
   ]
  },
  {
   "cell_type": "markdown",
   "metadata": {},
   "source": [
    "Here will analyze how the model learns by adjusting weights and the loss of the training process as well as the accuracy for each epoch.<br>\n",
    "We will use the metrics['loss', 'accuracy'] to visualize the training process.<br><br>\n",
    "Read and store each metric into a variable"
   ]
  },
  {
   "cell_type": "code",
   "execution_count": 13,
   "metadata": {},
   "outputs": [],
   "source": [
    "import matplotlib.pyplot as plt\n",
    "epoch = [x for x in range(1, len(model_with_metrics.history['loss']) + 1)]\n",
    "loss = model_with_metrics.history['loss']\n",
    "accuracy = model_with_metrics.history['accuracy']\n"
   ]
  },
  {
   "cell_type": "markdown",
   "metadata": {},
   "source": [
    "Plot graph for loss"
   ]
  },
  {
   "cell_type": "code",
   "execution_count": 14,
   "metadata": {},
   "outputs": [
    {
     "data": {
      "image/png": "[encoded data removed]",
      "text/plain": [
       "<Figure size 432x288 with 1 Axes>"
      ]
     },
     "metadata": {
      "needs_background": "light"
     },
     "output_type": "display_data"
    }
   ],
   "source": [
    "plt.plot(epoch, loss)\n",
    "plt.title('Graph of epoch against loss')\n",
    "plt.xlabel('Epoch')\n",
    "plt.ylabel('Loss')\n",
    "plt.show()"
   ]
  },
  {
   "cell_type": "markdown",
   "metadata": {},
   "source": [
    "Plot graph for accuracy"
   ]
  },
  {
   "cell_type": "code",
   "execution_count": 15,
   "metadata": {},
   "outputs": [
    {
     "data": {
      "image/png": "[encoded data removed]",
      "text/plain": [
       "<Figure size 432x288 with 1 Axes>"
      ]
     },
     "metadata": {
      "needs_background": "light"
     },
     "output_type": "display_data"
    }
   ],
   "source": [
    "plt.plot(epoch, accuracy)\n",
    "plt.title('Graph of epoch against accuracy')\n",
    "plt.xlabel('Epoch')\n",
    "plt.ylabel('Accuracy')\n",
    "plt.show()"
   ]
  },
  {
   "cell_type": "markdown",
   "metadata": {},
   "source": [
    "## Confusion Matrix\n",
    "The accuracy we have obtained is very high, but we still worry regarding the overfitting problem. For instance, we have feed in the training model with 90% of cat images and 10% of dog images, the accuracy is weirdly higher and the model may predict every image fed in as cat. Hence, we have created a confusion matrix for further checking. "
   ]
  },
  {
   "cell_type": "code",
   "execution_count": 17,
   "metadata": {},
   "outputs": [
    {
     "name": "stdout",
     "output_type": "stream",
     "text": [
      "\n",
      "True Positive:  35 \n",
      "True Negative:  20 \n",
      "False Positive:  0 \n",
      "False Negative:  4\n"
     ]
    }
   ],
   "source": [
    "tp, tn, fp, fn = 0, 0, 0, 0\n",
    "\n",
    "for i in range(len(testing_sets)):\n",
    "    # if the result is NO (0)\n",
    "    if predictions[i][0] > predictions[i][1]:\n",
    "        if testing_labels[i] == 0:\n",
    "            tn += 1\n",
    "        else:\n",
    "            fp += 1\n",
    "    # if the result is YES (1)\n",
    "    elif predictions[i][0] < predictions[i][1]:\n",
    "        if testing_labels[i] == 1:\n",
    "            tp += 1\n",
    "        else:\n",
    "            fn += 1\n",
    "\n",
    "print(\"\\nTrue Positive: \", tp, \"\\nTrue Negative: \", tn, \"\\nFalse Positive: \", fp, \"\\nFalse Negative: \", fn)"
   ]
  }
 ],
 "metadata": {
  "kernelspec": {
   "display_name": "Python 3",
   "language": "python",
   "name": "python3"
  },
  "language_info": {
   "codemirror_mode": {
    "name": "ipython",
    "version": 3
   },
   "file_extension": ".py",
   "mimetype": "text/x-python",
   "name": "python",
   "nbconvert_exporter": "python",
   "pygments_lexer": "ipython3",
   "version": "3.8.5"
  }
 },
 "nbformat": 4,
 "nbformat_minor": 4
}
